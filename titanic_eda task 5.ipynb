{
 "cells": [
  {
   "cell_type": "markdown",
   "id": "aac7a63e",
   "metadata": {},
   "source": [
    "# Titanic EDA (Generated)\n",
    "This notebook contains code cells to reproduce the EDA and observations. Run cells sequentially (Kernel -> Restart & Run All if needed)."
   ]
  },
  {
   "cell_type": "code",
   "execution_count": null,
   "id": "0805780c",
   "metadata": {},
   "outputs": [],
   "source": [
    "import pandas as pd\n",
    "import numpy as np\n",
    "import matplotlib.pyplot as plt\n",
    "import seaborn as sns\n",
    "%matplotlib inline\n",
    "sns.set_style('whitegrid')\n",
    "plt.rcParams['figure.figsize'] = (9,6)"
   ]
  },
  {
   "cell_type": "code",
   "execution_count": null,
   "id": "cfca93d0",
   "metadata": {},
   "outputs": [],
   "source": [
    "df = pd.read_csv(r'/mnt/data/train.csv')\n",
    "df.shape\n"
   ]
  },
  {
   "cell_type": "code",
   "execution_count": null,
   "id": "ab660e33",
   "metadata": {},
   "outputs": [],
   "source": [
    "df.info()\n",
    "df.head()"
   ]
  },
  {
   "cell_type": "code",
   "execution_count": null,
   "id": "cf09774c",
   "metadata": {},
   "outputs": [],
   "source": [
    "df.describe(include='all').T"
   ]
  },
  {
   "cell_type": "code",
   "execution_count": null,
   "id": "ea5408e4",
   "metadata": {},
   "outputs": [],
   "source": [
    "df.isnull().sum().sort_values(ascending=False)"
   ]
  },
  {
   "cell_type": "code",
   "execution_count": null,
   "id": "51cb3000",
   "metadata": {},
   "outputs": [],
   "source": [
    "print('Sex:\\n', df['Sex'].value_counts(), '\\n')\n",
    "print('Pclass:\\n', df['Pclass'].value_counts(), '\\n')\n",
    "print('Survived:\\n', df['Survived'].value_counts(), '\\n')"
   ]
  },
  {
   "cell_type": "code",
   "execution_count": null,
   "id": "fcc27ff2",
   "metadata": {},
   "outputs": [],
   "source": [
    "import matplotlib.pyplot as plt\n",
    "import seaborn as sns\n",
    "fig = plt.figure()\n",
    "sns.countplot(x='Sex', hue='Survived', data=df)\n",
    "plt.title('Gender vs Survival')\n",
    "plt.show()"
   ]
  },
  {
   "cell_type": "code",
   "execution_count": null,
   "id": "f97359d5",
   "metadata": {},
   "outputs": [],
   "source": [
    "fig = plt.figure()\n",
    "sns.countplot(x='Pclass', hue='Survived', data=df)\n",
    "plt.title('Pclass vs Survival')\n",
    "plt.show()"
   ]
  },
  {
   "cell_type": "code",
   "execution_count": null,
   "id": "d54c14d0",
   "metadata": {},
   "outputs": [],
   "source": [
    "fig = plt.figure()\n",
    "sns.histplot(df['Age'].dropna(), bins=30, kde=True)\n",
    "plt.title('Age Distribution')\n",
    "plt.show()"
   ]
  },
  {
   "cell_type": "code",
   "execution_count": null,
   "id": "e9ae414e",
   "metadata": {},
   "outputs": [],
   "source": [
    "fig = plt.figure()\n",
    "sns.boxplot(x='Survived', y='Fare', data=df)\n",
    "plt.title('Fare vs Survival')\n",
    "plt.show()"
   ]
  },
  {
   "cell_type": "code",
   "execution_count": null,
   "id": "dd942d06",
   "metadata": {},
   "outputs": [],
   "source": [
    "num = df.select_dtypes(include=['int64','float64'])\n",
    "fig = plt.figure(figsize=(7,6))\n",
    "sns.heatmap(num.corr(), annot=True, cmap='coolwarm')\n",
    "plt.title('Correlation heatmap')\n",
    "plt.show()"
   ]
  },
  {
   "cell_type": "code",
   "execution_count": null,
   "id": "9e1fc681",
   "metadata": {},
   "outputs": [],
   "source": [
    "ct = pd.crosstab([df['Pclass'], df['Sex']], df['Survived'])\n",
    "ct_pct = ct.div(ct.sum(axis=1), axis=0)*100\n",
    "ct_pct.round(2)"
   ]
  },
  {
   "cell_type": "code",
   "execution_count": null,
   "id": "deda791d",
   "metadata": {},
   "outputs": [],
   "source": [
    "df.groupby(['Pclass','Sex'])['Survived'].mean().reset_index().sort_values('Survived', ascending=False)"
   ]
  },
  {
   "cell_type": "code",
   "execution_count": null,
   "id": "a4d5cf33",
   "metadata": {},
   "outputs": [],
   "source": [
    "import os\n",
    "os.makedirs('titanic_plots', exist_ok=True)\n",
    "plt.figure(); sns.countplot(x='Sex', hue='Survived', data=df); plt.savefig('titanic_plots/gender_survival.png')\n",
    "plt.close()\n",
    "plt.figure(); sns.countplot(x='Pclass', hue='Survived', data=df); plt.savefig('titanic_plots/pclass_survival.png'); plt.close()"
   ]
  }
 ],
 "metadata": {
  "kernelspec": {
   "display_name": "Python 3",
   "name": "python3"
  }
 },
 "nbformat": 4,
 "nbformat_minor": 5
}
